{
 "cells": [
  {
   "cell_type": "code",
   "execution_count": 219,
   "id": "265aa891",
   "metadata": {},
   "outputs": [],
   "source": [
    "import warnings\n",
    "warnings.filterwarnings('ignore')"
   ]
  },
  {
   "cell_type": "code",
   "execution_count": 220,
   "id": "d94e47f0",
   "metadata": {},
   "outputs": [],
   "source": [
    "import pandas as pd"
   ]
  },
  {
   "cell_type": "code",
   "execution_count": null,
   "id": "11af4e00",
   "metadata": {},
   "outputs": [],
   "source": [
    "data = pd.read_csv('Expresso_churn_dataset.csv')"
   ]
  },
  {
   "cell_type": "code",
   "execution_count": 222,
   "id": "242acb4f",
   "metadata": {},
   "outputs": [],
   "source": [
    "df = data.copy()"
   ]
  },
  {
   "cell_type": "code",
   "execution_count": 223,
   "id": "83124682",
   "metadata": {},
   "outputs": [
    {
     "name": "stdout",
     "output_type": "stream",
     "text": [
      "<class 'pandas.core.frame.DataFrame'>\n",
      "RangeIndex: 12000 entries, 0 to 11999\n",
      "Data columns (total 19 columns):\n",
      " #   Column          Non-Null Count  Dtype  \n",
      "---  ------          --------------  -----  \n",
      " 0   user_id         12000 non-null  object \n",
      " 1   REGION          11205 non-null  object \n",
      " 2   TENURE          12000 non-null  object \n",
      " 3   MONTANT         11239 non-null  float64\n",
      " 4   FREQUENCE_RECH  11239 non-null  float64\n",
      " 5   REVENUE         11320 non-null  float64\n",
      " 6   ARPU_SEGMENT    11320 non-null  float64\n",
      " 7   FREQUENCE       11320 non-null  float64\n",
      " 8   ON_NET          10438 non-null  float64\n",
      " 9   ORANGE          11151 non-null  float64\n",
      " 10  TIGO            10770 non-null  float64\n",
      " 11  MRG             12000 non-null  object \n",
      " 12  REGULARITY      12000 non-null  int64  \n",
      " 13  TOP_PACK        11147 non-null  object \n",
      " 14  FREQ_TOP_PACK   11147 non-null  float64\n",
      " 15  CHURN           12000 non-null  int64  \n",
      " 16  DATA_VOLUME     996 non-null    float64\n",
      " 17  ZONE1           147 non-null    float64\n",
      " 18  ZONE2           115 non-null    float64\n",
      "dtypes: float64(12), int64(2), object(5)\n",
      "memory usage: 1.7+ MB\n"
     ]
    }
   ],
   "source": [
    "df.info()"
   ]
  },
  {
   "cell_type": "code",
   "execution_count": 224,
   "id": "54fcded1",
   "metadata": {},
   "outputs": [
    {
     "data": {
      "text/html": [
       "<div>\n",
       "<style scoped>\n",
       "    .dataframe tbody tr th:only-of-type {\n",
       "        vertical-align: middle;\n",
       "    }\n",
       "\n",
       "    .dataframe tbody tr th {\n",
       "        vertical-align: top;\n",
       "    }\n",
       "\n",
       "    .dataframe thead th {\n",
       "        text-align: right;\n",
       "    }\n",
       "</style>\n",
       "<table border=\"1\" class=\"dataframe\">\n",
       "  <thead>\n",
       "    <tr style=\"text-align: right;\">\n",
       "      <th></th>\n",
       "      <th>user_id</th>\n",
       "      <th>REGION</th>\n",
       "      <th>TENURE</th>\n",
       "      <th>MONTANT</th>\n",
       "      <th>FREQUENCE_RECH</th>\n",
       "      <th>REVENUE</th>\n",
       "      <th>ARPU_SEGMENT</th>\n",
       "      <th>FREQUENCE</th>\n",
       "      <th>ON_NET</th>\n",
       "      <th>ORANGE</th>\n",
       "      <th>TIGO</th>\n",
       "      <th>MRG</th>\n",
       "      <th>REGULARITY</th>\n",
       "      <th>TOP_PACK</th>\n",
       "      <th>FREQ_TOP_PACK</th>\n",
       "      <th>CHURN</th>\n",
       "      <th>DATA_VOLUME</th>\n",
       "      <th>ZONE1</th>\n",
       "      <th>ZONE2</th>\n",
       "    </tr>\n",
       "  </thead>\n",
       "  <tbody>\n",
       "    <tr>\n",
       "      <th>0</th>\n",
       "      <td>8434</td>\n",
       "      <td>9</td>\n",
       "      <td>4</td>\n",
       "      <td>6000.0</td>\n",
       "      <td>12.0</td>\n",
       "      <td>6000.0</td>\n",
       "      <td>2000.0</td>\n",
       "      <td>12.0</td>\n",
       "      <td>142.0</td>\n",
       "      <td>212.0</td>\n",
       "      <td>4.0</td>\n",
       "      <td>0</td>\n",
       "      <td>47</td>\n",
       "      <td>48</td>\n",
       "      <td>12.0</td>\n",
       "      <td>0</td>\n",
       "      <td>NaN</td>\n",
       "      <td>NaN</td>\n",
       "      <td>NaN</td>\n",
       "    </tr>\n",
       "    <tr>\n",
       "      <th>1</th>\n",
       "      <td>695</td>\n",
       "      <td>14</td>\n",
       "      <td>7</td>\n",
       "      <td>600.0</td>\n",
       "      <td>1.0</td>\n",
       "      <td>600.0</td>\n",
       "      <td>200.0</td>\n",
       "      <td>1.0</td>\n",
       "      <td>NaN</td>\n",
       "      <td>21.0</td>\n",
       "      <td>2.0</td>\n",
       "      <td>0</td>\n",
       "      <td>1</td>\n",
       "      <td>8</td>\n",
       "      <td>1.0</td>\n",
       "      <td>1</td>\n",
       "      <td>NaN</td>\n",
       "      <td>NaN</td>\n",
       "      <td>NaN</td>\n",
       "    </tr>\n",
       "    <tr>\n",
       "      <th>2</th>\n",
       "      <td>4082</td>\n",
       "      <td>14</td>\n",
       "      <td>7</td>\n",
       "      <td>3000.0</td>\n",
       "      <td>1.0</td>\n",
       "      <td>3000.0</td>\n",
       "      <td>1000.0</td>\n",
       "      <td>1.0</td>\n",
       "      <td>6.0</td>\n",
       "      <td>109.0</td>\n",
       "      <td>2.0</td>\n",
       "      <td>0</td>\n",
       "      <td>5</td>\n",
       "      <td>41</td>\n",
       "      <td>1.0</td>\n",
       "      <td>1</td>\n",
       "      <td>NaN</td>\n",
       "      <td>NaN</td>\n",
       "      <td>NaN</td>\n",
       "    </tr>\n",
       "    <tr>\n",
       "      <th>3</th>\n",
       "      <td>3427</td>\n",
       "      <td>0</td>\n",
       "      <td>7</td>\n",
       "      <td>16300.0</td>\n",
       "      <td>25.0</td>\n",
       "      <td>16805.0</td>\n",
       "      <td>5602.0</td>\n",
       "      <td>34.0</td>\n",
       "      <td>43.0</td>\n",
       "      <td>652.0</td>\n",
       "      <td>10.0</td>\n",
       "      <td>0</td>\n",
       "      <td>61</td>\n",
       "      <td>24</td>\n",
       "      <td>12.0</td>\n",
       "      <td>0</td>\n",
       "      <td>NaN</td>\n",
       "      <td>NaN</td>\n",
       "      <td>NaN</td>\n",
       "    </tr>\n",
       "    <tr>\n",
       "      <th>4</th>\n",
       "      <td>4487</td>\n",
       "      <td>4</td>\n",
       "      <td>7</td>\n",
       "      <td>650.0</td>\n",
       "      <td>2.0</td>\n",
       "      <td>449.0</td>\n",
       "      <td>150.0</td>\n",
       "      <td>3.0</td>\n",
       "      <td>6.0</td>\n",
       "      <td>8.0</td>\n",
       "      <td>2.0</td>\n",
       "      <td>0</td>\n",
       "      <td>41</td>\n",
       "      <td>51</td>\n",
       "      <td>1.0</td>\n",
       "      <td>0</td>\n",
       "      <td>NaN</td>\n",
       "      <td>NaN</td>\n",
       "      <td>NaN</td>\n",
       "    </tr>\n",
       "  </tbody>\n",
       "</table>\n",
       "</div>"
      ],
      "text/plain": [
       "  user_id REGION TENURE  MONTANT  FREQUENCE_RECH  REVENUE  ARPU_SEGMENT  \\\n",
       "0    8434      9      4   6000.0            12.0   6000.0        2000.0   \n",
       "1     695     14      7    600.0             1.0    600.0         200.0   \n",
       "2    4082     14      7   3000.0             1.0   3000.0        1000.0   \n",
       "3    3427      0      7  16300.0            25.0  16805.0        5602.0   \n",
       "4    4487      4      7    650.0             2.0    449.0         150.0   \n",
       "\n",
       "   FREQUENCE  ON_NET  ORANGE  TIGO MRG  REGULARITY TOP_PACK  FREQ_TOP_PACK  \\\n",
       "0       12.0   142.0   212.0   4.0   0          47       48           12.0   \n",
       "1        1.0     NaN    21.0   2.0   0           1        8            1.0   \n",
       "2        1.0     6.0   109.0   2.0   0           5       41            1.0   \n",
       "3       34.0    43.0   652.0  10.0   0          61       24           12.0   \n",
       "4        3.0     6.0     8.0   2.0   0          41       51            1.0   \n",
       "\n",
       "   CHURN  DATA_VOLUME  ZONE1  ZONE2  \n",
       "0      0          NaN    NaN    NaN  \n",
       "1      1          NaN    NaN    NaN  \n",
       "2      1          NaN    NaN    NaN  \n",
       "3      0          NaN    NaN    NaN  \n",
       "4      0          NaN    NaN    NaN  "
      ]
     },
     "execution_count": 224,
     "metadata": {},
     "output_type": "execute_result"
    }
   ],
   "source": [
    "df.head()"
   ]
  },
  {
   "cell_type": "code",
   "execution_count": 225,
   "id": "929482d7",
   "metadata": {},
   "outputs": [],
   "source": [
    "from ydata_profiling import ProfileReport\n",
    "profile = ProfileReport(df, title=\"Profiling Report\")\n",
    "profile.to_notebook_iframe()"
   ]
  },
  {
   "cell_type": "code",
   "execution_count": 226,
   "id": "683f4e14",
   "metadata": {},
   "outputs": [
    {
     "data": {
      "text/plain": [
       "np.int64(0)"
      ]
     },
     "execution_count": 226,
     "metadata": {},
     "output_type": "execute_result"
    }
   ],
   "source": [
    "duplicates = df.duplicated()\n",
    "duplicates.sum()"
   ]
  },
  {
   "cell_type": "code",
   "execution_count": 227,
   "id": "968dcf8a",
   "metadata": {},
   "outputs": [
    {
     "data": {
      "text/plain": [
       "ZONE2             11885\n",
       "ZONE1             11853\n",
       "DATA_VOLUME       11004\n",
       "ON_NET             1562\n",
       "TIGO               1230\n",
       "TOP_PACK            853\n",
       "FREQ_TOP_PACK       853\n",
       "ORANGE              849\n",
       "REGION              795\n",
       "MONTANT             761\n",
       "FREQUENCE_RECH      761\n",
       "FREQUENCE           680\n",
       "ARPU_SEGMENT        680\n",
       "REVENUE             680\n",
       "user_id               0\n",
       "TENURE                0\n",
       "REGULARITY            0\n",
       "MRG                   0\n",
       "CHURN                 0\n",
       "dtype: int64"
      ]
     },
     "execution_count": 227,
     "metadata": {},
     "output_type": "execute_result"
    }
   ],
   "source": [
    "df.isna().sum().sort_values(ascending=False)"
   ]
  },
  {
   "cell_type": "code",
   "execution_count": 228,
   "id": "8c6c8973",
   "metadata": {},
   "outputs": [],
   "source": [
    "from sklearn.preprocessing import LabelEncoder\n",
    "le = LabelEncoder()"
   ]
  },
  {
   "cell_type": "code",
   "execution_count": 229,
   "id": "ecabe7a9",
   "metadata": {},
   "outputs": [],
   "source": [
    "df['user_id'] = le.fit_transform(df['user_id'])\n",
    "df['REGION'] = le.fit_transform(df['REGION'])\n",
    "df['TENURE'] = le.fit_transform(df['TENURE'])\n",
    "df['MRG'] = le.fit_transform(df['MRG'])\n",
    "df['TOP_PACK'] = le.fit_transform(df['TOP_PACK'])"
   ]
  },
  {
   "cell_type": "code",
   "execution_count": 230,
   "id": "4fdaaa5e",
   "metadata": {},
   "outputs": [
    {
     "name": "stdout",
     "output_type": "stream",
     "text": [
      "<class 'pandas.core.frame.DataFrame'>\n",
      "RangeIndex: 12000 entries, 0 to 11999\n",
      "Data columns (total 19 columns):\n",
      " #   Column          Non-Null Count  Dtype  \n",
      "---  ------          --------------  -----  \n",
      " 0   user_id         12000 non-null  int64  \n",
      " 1   REGION          12000 non-null  int64  \n",
      " 2   TENURE          12000 non-null  int64  \n",
      " 3   MONTANT         11239 non-null  float64\n",
      " 4   FREQUENCE_RECH  11239 non-null  float64\n",
      " 5   REVENUE         11320 non-null  float64\n",
      " 6   ARPU_SEGMENT    11320 non-null  float64\n",
      " 7   FREQUENCE       11320 non-null  float64\n",
      " 8   ON_NET          10438 non-null  float64\n",
      " 9   ORANGE          11151 non-null  float64\n",
      " 10  TIGO            10770 non-null  float64\n",
      " 11  MRG             12000 non-null  int64  \n",
      " 12  REGULARITY      12000 non-null  int64  \n",
      " 13  TOP_PACK        12000 non-null  int64  \n",
      " 14  FREQ_TOP_PACK   11147 non-null  float64\n",
      " 15  CHURN           12000 non-null  int64  \n",
      " 16  DATA_VOLUME     996 non-null    float64\n",
      " 17  ZONE1           147 non-null    float64\n",
      " 18  ZONE2           115 non-null    float64\n",
      "dtypes: float64(12), int64(7)\n",
      "memory usage: 1.7 MB\n"
     ]
    }
   ],
   "source": [
    "df.info()"
   ]
  },
  {
   "cell_type": "code",
   "execution_count": 231,
   "id": "ec0cc92f",
   "metadata": {},
   "outputs": [
    {
     "data": {
      "text/plain": [
       "CHURN\n",
       "0    6615\n",
       "1    5385\n",
       "Name: count, dtype: int64"
      ]
     },
     "execution_count": 231,
     "metadata": {},
     "output_type": "execute_result"
    }
   ],
   "source": [
    "df['CHURN'].value_counts()"
   ]
  },
  {
   "cell_type": "code",
   "execution_count": 232,
   "id": "17517047",
   "metadata": {},
   "outputs": [
    {
     "data": {
      "text/plain": [
       "(10680, 19)"
      ]
     },
     "execution_count": 232,
     "metadata": {},
     "output_type": "execute_result"
    }
   ],
   "source": [
    "df_sample = df.dropna(subset=['REGULARITY', 'FREQ_TOP_PACK', 'ORANGE', 'TIGO', 'REGION', 'TOP_PACK'])\n",
    "df_sample.shape"
   ]
  },
  {
   "cell_type": "code",
   "execution_count": 233,
   "id": "d5b4be95",
   "metadata": {},
   "outputs": [
    {
     "data": {
      "text/plain": [
       "user_id               0\n",
       "REGION                0\n",
       "TENURE                0\n",
       "MONTANT              55\n",
       "FREQUENCE_RECH       55\n",
       "REVENUE               0\n",
       "ARPU_SEGMENT          0\n",
       "FREQUENCE             0\n",
       "ON_NET              823\n",
       "ORANGE                0\n",
       "TIGO                  0\n",
       "MRG                   0\n",
       "REGULARITY            0\n",
       "TOP_PACK              0\n",
       "FREQ_TOP_PACK         0\n",
       "CHURN                 0\n",
       "DATA_VOLUME       10191\n",
       "ZONE1             10593\n",
       "ZONE2             10621\n",
       "dtype: int64"
      ]
     },
     "execution_count": 233,
     "metadata": {},
     "output_type": "execute_result"
    }
   ],
   "source": [
    "df_sample.isna().sum()"
   ]
  },
  {
   "cell_type": "code",
   "execution_count": 234,
   "id": "5920405c",
   "metadata": {},
   "outputs": [],
   "source": [
    "df_sample = df_sample.drop(columns = ['DATA_VOLUME', 'ZONE1', 'ZONE2'])"
   ]
  },
  {
   "cell_type": "code",
   "execution_count": 235,
   "id": "d27dfe55",
   "metadata": {},
   "outputs": [
    {
     "name": "stdout",
     "output_type": "stream",
     "text": [
      "<class 'pandas.core.frame.DataFrame'>\n",
      "Index: 10680 entries, 0 to 11999\n",
      "Data columns (total 16 columns):\n",
      " #   Column          Non-Null Count  Dtype  \n",
      "---  ------          --------------  -----  \n",
      " 0   user_id         10680 non-null  int64  \n",
      " 1   REGION          10680 non-null  int64  \n",
      " 2   TENURE          10680 non-null  int64  \n",
      " 3   MONTANT         10625 non-null  float64\n",
      " 4   FREQUENCE_RECH  10625 non-null  float64\n",
      " 5   REVENUE         10680 non-null  float64\n",
      " 6   ARPU_SEGMENT    10680 non-null  float64\n",
      " 7   FREQUENCE       10680 non-null  float64\n",
      " 8   ON_NET          9857 non-null   float64\n",
      " 9   ORANGE          10680 non-null  float64\n",
      " 10  TIGO            10680 non-null  float64\n",
      " 11  MRG             10680 non-null  int64  \n",
      " 12  REGULARITY      10680 non-null  int64  \n",
      " 13  TOP_PACK        10680 non-null  int64  \n",
      " 14  FREQ_TOP_PACK   10680 non-null  float64\n",
      " 15  CHURN           10680 non-null  int64  \n",
      "dtypes: float64(9), int64(7)\n",
      "memory usage: 1.4 MB\n"
     ]
    }
   ],
   "source": [
    "df_sample.info()"
   ]
  },
  {
   "cell_type": "code",
   "execution_count": null,
   "id": "3370083b",
   "metadata": {},
   "outputs": [],
   "source": [
    "churn_0 = df_sample[df['CHURN'] == 0]\n",
    "churn_1 = df_sample[df['CHURN'] == 1]\n",
    "\n",
    "n_per_class = 5000\n",
    "\n",
    "churn_0_sample = churn_0.sample(n=n_per_class, random_state=42)\n",
    "churn_1_sample = churn_1.sample(n=n_per_class, random_state=42)\n",
    "\n",
    "df_sample = pd.concat([churn_0_sample, churn_1_sample]).sample(frac=1, random_state=42).reset_index(drop=True)\n",
    "\n",
    "df_sample.to_csv(\"balanced_10000.csv\", index=False)"
   ]
  },
  {
   "cell_type": "code",
   "execution_count": 237,
   "id": "ba437696",
   "metadata": {},
   "outputs": [
    {
     "data": {
      "text/plain": [
       "CHURN\n",
       "1    5000\n",
       "0    5000\n",
       "Name: count, dtype: int64"
      ]
     },
     "execution_count": 237,
     "metadata": {},
     "output_type": "execute_result"
    }
   ],
   "source": [
    "df_sample['CHURN'].value_counts()"
   ]
  },
  {
   "cell_type": "code",
   "execution_count": 238,
   "id": "7ad2dcfa",
   "metadata": {},
   "outputs": [],
   "source": [
    "X = df_sample[['REGULARITY', 'FREQ_TOP_PACK', 'ORANGE', 'TIGO', 'REGION', 'TOP_PACK']]\n",
    "y = df_sample['CHURN']"
   ]
  },
  {
   "cell_type": "code",
   "execution_count": 239,
   "id": "6cf5d20e",
   "metadata": {},
   "outputs": [],
   "source": [
    "from sklearn.model_selection import train_test_split\n",
    "X_train, X_test, y_train, y_test = train_test_split(X, y, test_size=0.3, random_state=42) \n"
   ]
  },
  {
   "cell_type": "code",
   "execution_count": 240,
   "id": "56ba14ff",
   "metadata": {},
   "outputs": [
    {
     "name": "stdout",
     "output_type": "stream",
     "text": [
      "Fitting 3 folds for each of 81 candidates, totalling 243 fits\n",
      "Best parameters: {'max_depth': 10, 'min_samples_leaf': 1, 'min_samples_split': 10, 'n_estimators': 200}\n",
      "Best score: 0.8868570770239793\n"
     ]
    }
   ],
   "source": [
    "from sklearn.ensemble import RandomForestClassifier\n",
    "from sklearn.model_selection import GridSearchCV\n",
    "\n",
    "param_grid = {\n",
    "    'n_estimators': [50, 100, 200],\n",
    "    'max_depth': [None, 5, 10],\n",
    "    'min_samples_split': [2, 5, 10],\n",
    "    'min_samples_leaf': [1, 2, 4]\n",
    "}\n",
    "\n",
    "model = RandomForestClassifier(random_state=42)\n",
    "\n",
    "grid_search = GridSearchCV(\n",
    "    estimator=model,\n",
    "    param_grid=param_grid,\n",
    "    cv=3,\n",
    "    scoring='accuracy',\n",
    "    verbose=1,\n",
    "    n_jobs=-1\n",
    ")\n",
    "\n",
    "grid_search.fit(X_train, y_train)\n",
    "\n",
    "print(\"Best parameters:\", grid_search.best_params_)\n",
    "print(\"Best score:\", grid_search.best_score_)"
   ]
  },
  {
   "cell_type": "code",
   "execution_count": 245,
   "id": "181e3028",
   "metadata": {},
   "outputs": [],
   "source": [
    "model = RandomForestClassifier(\n",
    "    max_depth=10,\n",
    "    min_samples_leaf=1,\n",
    "    min_samples_split=10,\n",
    "    n_estimators=200,\n",
    ")\n",
    "\n",
    "model.fit(X_train, y_train)\n",
    "y_pred = model.predict(X_test)"
   ]
  },
  {
   "cell_type": "code",
   "execution_count": 246,
   "id": "c3a80306",
   "metadata": {},
   "outputs": [
    {
     "name": "stdout",
     "output_type": "stream",
     "text": [
      "\n",
      "Classification Report:\n",
      "               precision    recall  f1-score   support\n",
      "\n",
      "           0       0.92      0.86      0.89      1539\n",
      "           1       0.86      0.92      0.89      1461\n",
      "\n",
      "    accuracy                           0.89      3000\n",
      "   macro avg       0.89      0.89      0.89      3000\n",
      "weighted avg       0.89      0.89      0.89      3000\n",
      "\n",
      "\n",
      "Confusion Matrix:\n",
      " [[1324  215]\n",
      " [ 114 1347]]\n"
     ]
    }
   ],
   "source": [
    "from sklearn.metrics import classification_report, confusion_matrix\n",
    "print(\"\\nClassification Report:\\n\", classification_report(y_test, y_pred))\n",
    "print(\"\\nConfusion Matrix:\\n\", confusion_matrix(y_test, y_pred))"
   ]
  },
  {
   "cell_type": "code",
   "execution_count": 243,
   "id": "071a1ac2",
   "metadata": {},
   "outputs": [
    {
     "data": {
      "image/png": "[encoded data removed]",
      "text/plain": [
       "<Figure size 800x600 with 2 Axes>"
      ]
     },
     "metadata": {},
     "output_type": "display_data"
    }
   ],
   "source": [
    "#ploting the confusion matrix\n",
    "import matplotlib.pyplot as plt\n",
    "import seaborn as sns\n",
    "plt.figure(figsize=(8, 6))\n",
    "sns.heatmap(confusion_matrix(y_test, y_pred), annot=True, fmt='d', cmap='Blues', xticklabels=['No Churn', 'Churn'], yticklabels=['No Churn', 'Churn'])\n",
    "plt.title('Confusion Matrix')\n",
    "plt.xlabel('Predicted')\n",
    "plt.ylabel('Actual')\n",
    "plt.show()\n"
   ]
  },
  {
   "cell_type": "code",
   "execution_count": 244,
   "id": "aee4abd0",
   "metadata": {},
   "outputs": [],
   "source": [
    "import pickle\n",
    "\n",
    "with open(\"model.pkl\", \"wb\") as f:\n",
    "    pickle.dump(model, f)\n",
    "\n",
    "with open(\"model.pkl\", \"rb\") as f:\n",
    "    model = pickle.load(f)\n"
   ]
  }
 ],
 "metadata": {
  "kernelspec": {
   "display_name": "Python 3",
   "language": "python",
   "name": "python3"
  },
  "language_info": {
   "codemirror_mode": {
    "name": "ipython",
    "version": 3
   },
   "file_extension": ".py",
   "mimetype": "text/x-python",
   "name": "python",
   "nbconvert_exporter": "python",
   "pygments_lexer": "ipython3",
   "version": "3.10.0"
  }
 },
 "nbformat": 4,
 "nbformat_minor": 5
}
